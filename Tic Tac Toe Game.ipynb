{
 "cells": [
  {
   "cell_type": "markdown",
   "metadata": {},
   "source": [
    "# Tic Tac Toe  -  Game\n",
    "\n",
    "\n",
    "\\\n",
    "**Key Features:** \n",
    "    - Two players will be able to play the game (both sitting at the same computer).\n",
    "    - The board will be printed out every time a player makes a move.\n",
    "    - We will be able to accept input of the player position and then place a symbol on the board."
   ]
  },
  {
   "cell_type": "markdown",
   "metadata": {},
   "source": [
    "Some imports for displaing output and to declare global variables"
   ]
  },
  {
   "cell_type": "code",
   "execution_count": 1,
   "metadata": {},
   "outputs": [],
   "source": [
    "# Specifically for the iPython Notebook environment for clearing output\n",
    "from IPython.display import clear_output\n",
    "import random \n",
    "\n",
    "# Global Variables\n",
    "theBoard = [' '] * 10\n",
    "available = [str(num) for num in range(0,10)]\n",
    "players = [0, \"X\", \"O\"]                             # players[1] == 'X' and players[-1] == 'O'\n"
   ]
  },
  {
   "cell_type": "markdown",
   "metadata": {},
   "source": [
    "A function to display the board (use num pad as the board reference)"
   ]
  },
  {
   "cell_type": "code",
   "execution_count": 2,
   "metadata": {},
   "outputs": [],
   "source": [
    "def display_board(x, y):\n",
    "    \n",
    "    \"\"\" This function is used to print out the board so the numpad can be used as a reference \"\"\"\n",
    "    \n",
    "    # To print the board\n",
    "    print(f\" Available moves\\tTic-Tac-Toe\\n\\n\\\n",
    "    {x[7]} | {x[8]} | {x[9]} \\t\\t {y[7]} | {y[8]} | {y[9]}\\n   -----------\\t\\t-----------\\n\\\n",
    "    {x[4]} | {x[5]} | {x[6]} \\t\\t {y[4]} | {y[5]} | {y[6]}\\n   -----------\\t\\t-----------\\n\\\n",
    "    {x[1]} | {x[2]} | {x[3]} \\t\\t {y[1]} | {y[2]} | {y[3]}\\n\")\n",
    "    "
   ]
  },
  {
   "cell_type": "markdown",
   "metadata": {},
   "source": [
    "A function to mark a place on the board"
   ]
  },
  {
   "cell_type": "code",
   "execution_count": 3,
   "metadata": {},
   "outputs": [],
   "source": [
    "def place_marker(avail, board, marker, position):\n",
    "    \n",
    "    \"\"\" A function to mark a place on the board and also to clear the places from available moves \"\"\"\n",
    "    \n",
    "    board[position] = marker # Board on which players will play\n",
    "    avail[position] = \" \"    # Board to show available moves to players\n",
    "    "
   ]
  },
  {
   "cell_type": "markdown",
   "metadata": {},
   "source": [
    "A function to check for a win by comparing inputs in the board list"
   ]
  },
  {
   "cell_type": "code",
   "execution_count": 4,
   "metadata": {},
   "outputs": [],
   "source": [
    "def check_for_win(board,mark):\n",
    "    \n",
    "    \"\"\" This function is used to check if a player has won the game\"\"\"\n",
    "    \n",
    "    return ((board[7] ==  board[8] ==  board[9] == mark) or    # across the top\n",
    "    (board[4] ==  board[5] ==  board[6] == mark) or            # across the middle\n",
    "    (board[1] ==  board[2] ==  board[3] == mark) or            # across the bottom\n",
    "    (board[7] ==  board[4] ==  board[1] == mark) or            # down the middle\n",
    "    (board[8] ==  board[5] ==  board[2] == mark) or            # down the middle\n",
    "    (board[9] ==  board[6] ==  board[3] == mark) or            # down the right side\n",
    "    (board[7] ==  board[5] ==  board[3] == mark) or            # diagonal\n",
    "    (board[9] ==  board[5] ==  board[1] == mark))              # diagonal\n"
   ]
  },
  {
   "cell_type": "markdown",
   "metadata": {},
   "source": [
    "Functions to choose player and to check the status of the board"
   ]
  },
  {
   "cell_type": "code",
   "execution_count": 5,
   "metadata": {},
   "outputs": [],
   "source": [
    "def choose_player():\n",
    "    \n",
    "    \"\"\" Used to choose a player randomly using random.choice() \"\"\"\n",
    "    \n",
    "    return random.choice((-1, 1)) \n",
    "\n",
    "    \n",
    "def check_for_space(board, position):\n",
    "    \n",
    "    \"\"\" To check if space is available on the board... This function will return True if space is available on the board otherwise it will return False\"\"\"\n",
    "    \n",
    "    return board[position] == \" \" \n",
    "\n",
    "\n",
    "def check_for_full_board(board):\n",
    "    \n",
    "    \"\"\" returns True if any blank spaces are remaining in the board \"\"\"\n",
    "    \n",
    "    return \" \" not in board[1:]\n"
   ]
  },
  {
   "cell_type": "markdown",
   "metadata": {},
   "source": [
    " To ask for a position to mark a choice X or O"
   ]
  },
  {
   "cell_type": "code",
   "execution_count": 6,
   "metadata": {},
   "outputs": [],
   "source": [
    "def players_choice(board, player):\n",
    "    \n",
    "    \"\"\" returns a position to mark X or O \"\"\"\n",
    "    \n",
    "    position = 0\n",
    "    \n",
    "    while position not in list(range(1,10)) or not check_for_space(board, position):\n",
    "        try:\n",
    "            position = int(input(f\"Player {player}, choose your next position: (1-9)\"))\n",
    "        except:\n",
    "            print(\"I'm sorry, please try again.\")\n",
    "    return position\n"
   ]
  },
  {
   "cell_type": "markdown",
   "metadata": {},
   "source": [
    "A function to ask if player wants to play again?"
   ]
  },
  {
   "cell_type": "code",
   "execution_count": 7,
   "metadata": {},
   "outputs": [],
   "source": [
    "def replay():\n",
    "    \n",
    "    \"\"\" this function is used to check if player wants to play again? \"\"\"\n",
    "    \n",
    "    return input(\"\\nDo you want to play again? (yes or no): \").lower().startswith(\"y\")\n"
   ]
  },
  {
   "cell_type": "markdown",
   "metadata": {},
   "source": [
    "Use all functions we have made to run the game"
   ]
  },
  {
   "cell_type": "code",
   "execution_count": 8,
   "metadata": {},
   "outputs": [],
   "source": [
    "def play_game():\n",
    "    \n",
    "    \"\"\"play_game function is a final function to run the game\"\"\"\n",
    "    \n",
    "    global available, theBoard\n",
    "  \n",
    "    while True:\n",
    "        \n",
    "        # To clear the output cell\n",
    "        clear_output()\n",
    "        print(\"Welcome to Tic Tac Toe!\")\n",
    "        \n",
    "        toggle = choose_player()                               \n",
    "        player = players[toggle]                               # choose random player\n",
    "        print(f\"For this Round, Player {player} will go first!\")\n",
    "        \n",
    "        game_on = True\n",
    "        input('Hit Enter to continue')\n",
    "        \n",
    "        while game_on:\n",
    "            \n",
    "            display_board(available, theBoard)                  # display board  \n",
    "            position = players_choice(theBoard, player)         # choose a position\n",
    "            place_marker(available, theBoard, player, position) # place on the board\n",
    "            \n",
    "            if check_for_win(theBoard, player):                 #check for win\n",
    "                clear_output()\n",
    "                display_board(available, theBoard)\n",
    "                print(f\"Congratulations! Player {player} wins!\")\n",
    "                game_on = False\n",
    "            else:\n",
    "                if check_for_full_board(theBoard):              # check for Tie game    \n",
    "                    clear_output()\n",
    "                    display_board(available, theBoard)\n",
    "                    print(\"It's a Tie\")\n",
    "                    break\n",
    "                else: \n",
    "                    toggle *= -1\n",
    "                    player = players[toggle]\n",
    "                    clear_output()\n",
    "                    \n",
    "        # reset the board and available moves list\n",
    "        theBoard = [' '] * 10\n",
    "        available = [str(num) for num in range(10)]\n",
    " \n",
    "        if not replay():        # to play again\n",
    "            break"
   ]
  },
  {
   "cell_type": "code",
   "execution_count": 9,
   "metadata": {},
   "outputs": [
    {
     "name": "stdout",
     "output_type": "stream",
     "text": [
      " Available moves\tTic-Tac-Toe\n",
      "\n",
      "      |   |   \t\t X | X | O\n",
      "   -----------\t\t-----------\n",
      "      |   | 6 \t\t X | O |  \n",
      "   -----------\t\t-----------\n",
      "      |   |   \t\t X | O | O\n",
      "\n",
      "Congratulations! Player X wins!\n",
      "\n",
      "Do you want to play again? (yes or no): n\n"
     ]
    }
   ],
   "source": [
    "play_game()"
   ]
  }
 ],
 "metadata": {
  "kernelspec": {
   "display_name": "Python 3",
   "language": "python",
   "name": "python3"
  },
  "language_info": {
   "codemirror_mode": {
    "name": "ipython",
    "version": 3
   },
   "file_extension": ".py",
   "mimetype": "text/x-python",
   "name": "python",
   "nbconvert_exporter": "python",
   "pygments_lexer": "ipython3",
   "version": "3.7.3"
  }
 },
 "nbformat": 4,
 "nbformat_minor": 2
}
